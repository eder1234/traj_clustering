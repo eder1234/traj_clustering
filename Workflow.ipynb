{
 "cells": [
  {
   "cell_type": "markdown",
   "id": "86376156",
   "metadata": {},
   "source": [
    "# Workflow\n",
    "This notebook guides you through the workflow of the trajectory analysis.\n",
    "\n",
    "Note: Some files and objects are provided for general purpose"
   ]
  },
  {
   "cell_type": "markdown",
   "id": "ebb46dfb",
   "metadata": {},
   "source": [
    "## 1. Generate the trajectory and motility_parameters text files for each sample using ImageJ"
   ]
  },
  {
   "cell_type": "markdown",
   "id": "dfbc01ad",
   "metadata": {},
   "source": [
    "## 2. Group the  aforementioned files into two text files by running *log_motility_data.py* from the terminal "
   ]
  },
  {
   "cell_type": "markdown",
   "id": "de3593b0",
   "metadata": {},
   "source": [
    "## 3. Options to generate or load the master dataframe and the trajectory's image dataset\n",
    "\n",
    "Note: the trajectory's image dataset is not provided; thus, it is highly recommended to generate it at least once."
   ]
  },
  {
   "cell_type": "markdown",
   "id": "759ca322",
   "metadata": {},
   "source": [
    "### 3.1 Run the next line if you want to create the trajectory's image dataset and the master dataframe"
   ]
  },
  {
   "cell_type": "code",
   "execution_count": null,
   "id": "5eb3989a",
   "metadata": {},
   "outputs": [],
   "source": [
    "import functions\n",
    "\n",
    "traj_path = \"files/traj.txt\"\n",
    "mot_path = \"files/Motility_Results.txt\"\n",
    "\n",
    "m_df = functions.master_df(traj_path, mot_path, gen_img=True)"
   ]
  },
  {
   "cell_type": "markdown",
   "id": "c0ce8139",
   "metadata": {},
   "source": [
    "### 3.2 Run the next line if you want to create the master dataframe only"
   ]
  },
  {
   "cell_type": "code",
   "execution_count": null,
   "id": "0ca82f50",
   "metadata": {},
   "outputs": [],
   "source": [
    "import functions\n",
    "\n",
    "traj_path = \"files/traj.txt\"\n",
    "mot_path = \"files/Motility_Results.txt\"\n",
    "\n",
    "m_df = functions.master_df(traj_path, mot_path, gen_img=False)"
   ]
  },
  {
   "cell_type": "markdown",
   "id": "fff25df9",
   "metadata": {},
   "source": [
    "### 3.3 Load the default master dataframe by running the following line"
   ]
  },
  {
   "cell_type": "code",
   "execution_count": null,
   "id": "efeaf566",
   "metadata": {},
   "outputs": [],
   "source": [
    "import pandas as pd\n",
    "\n",
    "m_df = master = pd.read_pickle(\"objects/master.pkl\")"
   ]
  },
  {
   "cell_type": "markdown",
   "id": "4ca278e1",
   "metadata": {},
   "source": [
    "## 4. Compute the clusters, using the algorithm of your choice, and add the results to the master dataframe"
   ]
  },
  {
   "cell_type": "markdown",
   "id": "7e266f4c",
   "metadata": {},
   "source": [
    "### 4.1 For the herarchical agglomerative algorithm, run the notebook *traj_agglo.ipynb*"
   ]
  },
  {
   "cell_type": "code",
   "execution_count": null,
   "id": "74b83674",
   "metadata": {},
   "outputs": [],
   "source": [
    "pending..."
   ]
  },
  {
   "cell_type": "markdown",
   "id": "f540110b",
   "metadata": {},
   "source": [
    "### 4.2 For SCAN, run the notebook *traj_scan.ipynb*\n",
    "\n",
    "Maybe the google colab file"
   ]
  },
  {
   "cell_type": "code",
   "execution_count": null,
   "id": "51c7c191",
   "metadata": {},
   "outputs": [],
   "source": [
    "pending..."
   ]
  },
  {
   "cell_type": "markdown",
   "id": "8651cbaa",
   "metadata": {},
   "source": [
    "## 5. Generate the datasets to train the CNN"
   ]
  },
  {
   "cell_type": "code",
   "execution_count": null,
   "id": "d6a4de35",
   "metadata": {},
   "outputs": [],
   "source": [
    "pending..."
   ]
  },
  {
   "cell_type": "markdown",
   "id": "a1ad2725",
   "metadata": {},
   "source": [
    "## 6. Train the CNN and save it as an object"
   ]
  },
  {
   "cell_type": "code",
   "execution_count": null,
   "id": "c8964689",
   "metadata": {},
   "outputs": [],
   "source": [
    "pending..."
   ]
  }
 ],
 "metadata": {
  "kernelspec": {
   "display_name": "Python 3 (ipykernel)",
   "language": "python",
   "name": "python3"
  },
  "language_info": {
   "codemirror_mode": {
    "name": "ipython",
    "version": 3
   },
   "file_extension": ".py",
   "mimetype": "text/x-python",
   "name": "python",
   "nbconvert_exporter": "python",
   "pygments_lexer": "ipython3",
   "version": "3.9.12"
  }
 },
 "nbformat": 4,
 "nbformat_minor": 5
}
