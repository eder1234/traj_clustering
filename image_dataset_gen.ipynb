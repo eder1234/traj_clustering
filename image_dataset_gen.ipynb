{
 "cells": [
  {
   "cell_type": "markdown",
   "id": "fe5d7543",
   "metadata": {},
   "source": [
    "Set *gen_img = True* when running this notebook for the first time in order to generate the image dataset and store the master dataframe into the objects folder. \n",
    "\n",
    "If *gen_img=False*, the master dataframe will be read from its default location."
   ]
  },
  {
   "cell_type": "code",
   "execution_count": null,
   "id": "5d084eaa",
   "metadata": {},
   "outputs": [],
   "source": [
    "import functions\n",
    "\n",
    "traj_path = \"files/traj.txt\"\n",
    "mot_path = \"files/Motility_Results.txt\"\n",
    "\n",
    "# This function returns the master dataframe as a variable\n",
    "m_df = functions.master_df(traj_path, mot_path, gen_img=True)"
   ]
  }
 ],
 "metadata": {
  "kernelspec": {
   "display_name": "Python 3 (ipykernel)",
   "language": "python",
   "name": "python3"
  },
  "language_info": {
   "codemirror_mode": {
    "name": "ipython",
    "version": 3
   },
   "file_extension": ".py",
   "mimetype": "text/x-python",
   "name": "python",
   "nbconvert_exporter": "python",
   "pygments_lexer": "ipython3",
   "version": "3.9.12"
  }
 },
 "nbformat": 4,
 "nbformat_minor": 5
}
