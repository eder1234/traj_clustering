{
  "cells": [
    {
      "cell_type": "markdown",
      "metadata": {
        "id": "rX8mhOLljYeM"
      },
      "source": [
        "##### Copyright 2019 The TensorFlow Authors."
      ]
    },
    {
      "cell_type": "code",
      "execution_count": null,
      "metadata": {
        "cellView": "form",
        "id": "BZSlp3DAjdYf"
      },
      "outputs": [],
      "source": [
        "#@title Licensed under the Apache License, Version 2.0 (the \"License\");\n",
        "# you may not use this file except in compliance with the License.\n",
        "# You may obtain a copy of the License at\n",
        "#\n",
        "# https://www.apache.org/licenses/LICENSE-2.0\n",
        "#\n",
        "# Unless required by applicable law or agreed to in writing, software\n",
        "# distributed under the License is distributed on an \"AS IS\" BASIS,\n",
        "# WITHOUT WARRANTIES OR CONDITIONS OF ANY KIND, either express or implied.\n",
        "# See the License for the specific language governing permissions and\n",
        "# limitations under the License."
      ]
    },
    {
      "cell_type": "markdown",
      "metadata": {
        "id": "3wF5wszaj97Y"
      },
      "source": [
        "# Guia inicial de TensorFlow 2.0 para expertos"
      ]
    },
    {
      "cell_type": "markdown",
      "metadata": {
        "id": "DUNzJc4jTj6G"
      },
      "source": [
        "<table class=\"tfo-notebook-buttons\" align=\"left\">\n",
        "  <td>\n",
        "    <a target=\"_blank\" href=\"https://www.tensorflow.org/tutorials/quickstart/advanced\"><img src=\"https://www.tensorflow.org/images/tf_logo_32px.png\" />Ver en TensorFlow.org</a>\n",
        "  </td>\n",
        "  <td>\n",
        "    <a target=\"_blank\" href=\"https://colab.research.google.com/github/tensorflow/docs-l10n/blob/master/site/es-419/tutorials/quickstart/advanced.ipynb\"><img src=\"https://www.tensorflow.org/images/colab_logo_32px.png\" />Ejecutar en Google Colab</a>\n",
        "  </td>\n",
        "  <td>\n",
        "    <a target=\"_blank\" href=\"https://github.com/tensorflow/docs-l10n/blob/master/site/es-419/tutorials/quickstart/advanced.ipynb\"><img src=\"https://www.tensorflow.org/images/GitHub-Mark-32px.png\" />Ver codigo en GitHub</a>\n",
        "  </td>\n",
        "  <td>\n",
        "    <a href=\"https://storage.googleapis.com/tensorflow_docs/docs-l10n/site/es-419/tutorials/quickstart/advanced.ipynb\"><img src=\"https://www.tensorflow.org/images/download_logo_32px.png\" />Descargar notebook</a>\n",
        "  </td>\n",
        "</table>"
      ]
    },
    {
      "cell_type": "markdown",
      "metadata": {
        "id": "CJEtYUgQnivP"
      },
      "source": [
        "Note: Nuestra comunidad de Tensorflow ha traducido estos documentos. Como las traducciones de la comunidad\n",
        "son basados en el \"mejor esfuerzo\", no hay ninguna garantia que esta sea un reflejo preciso y actual \n",
        "de la [Documentacion Oficial en Ingles](https://www.tensorflow.org/?hl=en).\n",
        "Si tienen sugerencias sobre como mejorar esta traduccion, por favor envian un \"Pull request\"\n",
        "al siguiente repositorio [tensorflow/docs](https://github.com/tensorflow/docs).\n",
        "Para ofrecerse como voluntario o hacer revision de las traducciones de la Comunidad\n",
        "por favor contacten al siguiente grupo [docs@tensorflow.org list](https://groups.google.com/a/tensorflow.org/forum/#!forum/docs)."
      ]
    },
    {
      "cell_type": "markdown",
      "metadata": {
        "id": "hiH7AC-NTniF"
      },
      "source": [
        "Este es un notebook de Google Colaboratory. Los programas de Python se executan directamente en tu navegador —una gran manera de aprender y utilizar TensorFlow. Para poder seguir este tutorial, ejecuta este notebook en Google Colab presionando el boton en la parte superior de esta pagina.\n",
        "\n",
        "En Colab, selecciona \"connect to a Python runtime\": En la parte superior derecha de la barra de menus selecciona: CONNECT.\n",
        "Para ejecutar todas las celdas de este notebook: Selecciona Runtime > Run all."
      ]
    },
    {
      "cell_type": "markdown",
      "metadata": {
        "id": "eOsVdx6GGHmU"
      },
      "source": [
        "Descarga e installa el paquete TensorFlow 2.0 version. \n",
        "\n",
        "Importa TensorFlow en tu programa:"
      ]
    },
    {
      "cell_type": "markdown",
      "metadata": {
        "id": "QS7DDTiZGRTo"
      },
      "source": [
        "Import TensorFlow into your program:"
      ]
    },
    {
      "cell_type": "code",
      "source": [
        "import pandas as pd\n",
        "from google.colab import drive \n",
        "\n",
        "drive.mount('/content/gdrive')"
      ],
      "metadata": {
        "colab": {
          "base_uri": "https://localhost:8080/"
        },
        "id": "MPoET3oBVO8O",
        "outputId": "ea360ab5-cbae-449a-ea71-72c4f4a40adf"
      },
      "execution_count": null,
      "outputs": [
        {
          "output_type": "stream",
          "name": "stdout",
          "text": [
            "Drive already mounted at /content/gdrive; to attempt to forcibly remount, call drive.mount(\"/content/gdrive\", force_remount=True).\n"
          ]
        }
      ]
    },
    {
      "cell_type": "code",
      "source": [
        "import pickle\n",
        "import numpy as np\n",
        "\n",
        "# open a file, where you stored the pickled data\n",
        "file = open('gdrive/My Drive/Colab Notebooks/x_traj_sel.pkl', 'rb')\n",
        "\n",
        "# dump information to that file\n",
        "x_data = pickle.load(file)\n",
        "\n",
        "# close the file\n",
        "file.close()\n"
      ],
      "metadata": {
        "id": "wJKNc5VGVSyo"
      },
      "execution_count": null,
      "outputs": []
    },
    {
      "cell_type": "code",
      "source": [
        "# open a file, where you stored the pickled data\n",
        "file = open('gdrive/My Drive/Colab Notebooks/y_traj_sel.pkl', 'rb')\n",
        "\n",
        "# dump information to that file\n",
        "y_data = pickle.load(file)\n",
        "\n",
        "# close the file\n",
        "file.close()"
      ],
      "metadata": {
        "id": "laBEuAI3XRd2"
      },
      "execution_count": null,
      "outputs": []
    },
    {
      "cell_type": "code",
      "source": [
        "print(type(y_data))"
      ],
      "metadata": {
        "colab": {
          "base_uri": "https://localhost:8080/"
        },
        "id": "IfD21UsxWzf9",
        "outputId": "fc36d1ac-ff2a-45d8-e0ac-6072f1a968e9"
      },
      "execution_count": null,
      "outputs": [
        {
          "output_type": "stream",
          "name": "stdout",
          "text": [
            "<class 'numpy.ndarray'>\n"
          ]
        }
      ]
    },
    {
      "cell_type": "code",
      "execution_count": null,
      "metadata": {
        "id": "0trJmd6DjqBZ"
      },
      "outputs": [],
      "source": [
        "import tensorflow as tf\n",
        "\n",
        "from tensorflow.keras.layers import Dense, Flatten, Conv2D\n",
        "from tensorflow.keras import Model"
      ]
    },
    {
      "cell_type": "code",
      "source": [
        "print(len(x_data))"
      ],
      "metadata": {
        "colab": {
          "base_uri": "https://localhost:8080/"
        },
        "id": "Qd43bCFRXevu",
        "outputId": "ec62ac00-65bb-42e9-d32d-a96b76545992"
      },
      "execution_count": null,
      "outputs": [
        {
          "output_type": "stream",
          "name": "stdout",
          "text": [
            "18447\n"
          ]
        }
      ]
    },
    {
      "cell_type": "code",
      "source": [
        "print(18447*0.75)"
      ],
      "metadata": {
        "colab": {
          "base_uri": "https://localhost:8080/"
        },
        "id": "EIO9EbgKLRkd",
        "outputId": "b3ed6b9e-87fa-4516-86ab-5bbecf2cdf92"
      },
      "execution_count": null,
      "outputs": [
        {
          "output_type": "stream",
          "name": "stdout",
          "text": [
            "13835.25\n"
          ]
        }
      ]
    },
    {
      "cell_type": "code",
      "source": [
        "x_train = x_data[:14000]\n",
        "x_test = x_data[14000:]"
      ],
      "metadata": {
        "id": "-8Jztm6ZXxzG"
      },
      "execution_count": null,
      "outputs": []
    },
    {
      "cell_type": "code",
      "source": [
        "y_train = y_data[:14000]\n",
        "y_test = y_data[14000:]\n"
      ],
      "metadata": {
        "id": "MNiY1CT4YBXj"
      },
      "execution_count": null,
      "outputs": []
    },
    {
      "cell_type": "code",
      "source": [
        "print(y_test.shape)"
      ],
      "metadata": {
        "colab": {
          "base_uri": "https://localhost:8080/"
        },
        "id": "-2xq418cYXF0",
        "outputId": "3ced153c-4f46-48a3-bf56-e01c625ea3fc"
      },
      "execution_count": null,
      "outputs": [
        {
          "output_type": "stream",
          "name": "stdout",
          "text": [
            "(4447,)\n"
          ]
        }
      ]
    },
    {
      "cell_type": "markdown",
      "metadata": {
        "id": "k1Evqx0S22r_"
      },
      "source": [
        "Utiliza `tf.data` to separar por lotes y mezclar el conjunto de datos:"
      ]
    },
    {
      "cell_type": "code",
      "execution_count": null,
      "metadata": {
        "id": "8Iu_quO024c2"
      },
      "outputs": [],
      "source": [
        "train_ds = tf.data.Dataset.from_tensor_slices(\n",
        "    (x_train, y_train)).shuffle(1000).batch(32)\n",
        "\n",
        "test_ds = tf.data.Dataset.from_tensor_slices((x_test, y_test)).batch(32)"
      ]
    },
    {
      "cell_type": "code",
      "source": [
        "import tensorflow as tf\n",
        "import tensorflow_datasets as tfds\n",
        "from tensorflow.keras import layers\n",
        "\n",
        "data_augmentation = tf.keras.Sequential([\n",
        "  layers.RandomFlip(\"horizontal_and_vertical\"),\n",
        "  layers.RandomRotation(1.),\n",
        "])\n"
      ],
      "metadata": {
        "id": "v2JPJnPfIqEC"
      },
      "execution_count": null,
      "outputs": []
    },
    {
      "cell_type": "code",
      "source": [
        "model = tf.keras.Sequential(\n",
        "    [\n",
        "    data_augmentation,\n",
        "    layers.Conv2D(64, 3, padding='same', activation=\"relu\",input_shape=(28, 28, 1)),\n",
        "    layers.MaxPooling2D((2, 2), strides=2),\n",
        "\n",
        "    layers.Conv2D(128, 3, padding='same', activation=\"relu\"),\n",
        "    layers.MaxPooling2D((2, 2), strides=2),\n",
        "\n",
        "    layers.Flatten(),\n",
        "    layers.Dense(150, activation=\"relu\"),\n",
        "    #layers.Dropout(0.2),\n",
        "    layers.Dense(7, activation=\"softmax\")\n",
        "]\n",
        ")"
      ],
      "metadata": {
        "id": "HspkLfjlKGAD"
      },
      "execution_count": null,
      "outputs": []
    },
    {
      "cell_type": "markdown",
      "metadata": {
        "id": "BPZ68wASog_I"
      },
      "source": [
        "Construye el modelo `tf.keras` utilizando la API de Keras [model subclassing API](https://www.tensorflow.org/guide/keras#model_subclassing):"
      ]
    },
    {
      "cell_type": "markdown",
      "metadata": {
        "id": "uGih-c2LgbJu"
      },
      "source": [
        "Escoge un optimizador y una funcion de perdida para el entrenamiento de tu modelo:"
      ]
    },
    {
      "cell_type": "code",
      "execution_count": null,
      "metadata": {
        "id": "u48C9WQ774n4"
      },
      "outputs": [],
      "source": [
        "loss_object = tf.keras.losses.SparseCategoricalCrossentropy()\n",
        "\n",
        "optimizer = tf.keras.optimizers.Adam()"
      ]
    },
    {
      "cell_type": "markdown",
      "metadata": {
        "id": "JB6A1vcigsIe"
      },
      "source": [
        "Escoge metricas para medir la perdida y exactitud del modelo.\n",
        "Estas metricas acumulan los valores cada epoch y despues imprimen el resultado total."
      ]
    },
    {
      "cell_type": "code",
      "execution_count": null,
      "metadata": {
        "id": "N0MqHFb4F_qn"
      },
      "outputs": [],
      "source": [
        "train_loss = tf.keras.metrics.Mean(name='train_loss')\n",
        "train_accuracy = tf.keras.metrics.SparseCategoricalAccuracy(name='train_accuracy')\n",
        "\n",
        "test_loss = tf.keras.metrics.Mean(name='test_loss')\n",
        "test_accuracy = tf.keras.metrics.SparseCategoricalAccuracy(name='test_accuracy')"
      ]
    },
    {
      "cell_type": "markdown",
      "metadata": {
        "id": "ix4mEL65on-w"
      },
      "source": [
        "Utiliza `tf.GradientTape` para entrenar el modelo."
      ]
    },
    {
      "cell_type": "code",
      "execution_count": null,
      "metadata": {
        "id": "OZACiVqA8KQV"
      },
      "outputs": [],
      "source": [
        "@tf.function\n",
        "def train_step(images, labels):\n",
        "  with tf.GradientTape() as tape:\n",
        "    predictions = model(images)\n",
        "    loss = loss_object(labels, predictions)\n",
        "  gradients = tape.gradient(loss, model.trainable_variables)\n",
        "  optimizer.apply_gradients(zip(gradients, model.trainable_variables))\n",
        "\n",
        "  train_loss(loss)\n",
        "  train_accuracy(labels, predictions)"
      ]
    },
    {
      "cell_type": "markdown",
      "metadata": {
        "id": "Z8YT7UmFgpjV"
      },
      "source": [
        "Prueba el modelo:"
      ]
    },
    {
      "cell_type": "code",
      "execution_count": null,
      "metadata": {
        "id": "xIKdEzHAJGt7"
      },
      "outputs": [],
      "source": [
        "@tf.function\n",
        "def test_step(images, labels):\n",
        "  predictions = model(images)\n",
        "  t_loss = loss_object(labels, predictions)\n",
        "\n",
        "  test_loss(t_loss)\n",
        "  test_accuracy(labels, predictions)"
      ]
    },
    {
      "cell_type": "code",
      "execution_count": null,
      "metadata": {
        "id": "i-2pkctU_Ci7",
        "outputId": "b2c47eb0-1d32-4656-90fc-8e36ab5662c3",
        "colab": {
          "base_uri": "https://localhost:8080/"
        }
      },
      "outputs": [
        {
          "output_type": "stream",
          "name": "stdout",
          "text": [
            "Epoch 1, Perdida: 0.8147780895233154, Exactitud: 68.79285430908203, Perdida de prueba: 0.577229380607605, Exactitud de prueba: 76.680908203125\n",
            "Epoch 2, Perdida: 0.5668789148330688, Exactitud: 77.42857360839844, Perdida de prueba: 0.559723973274231, Exactitud de prueba: 77.73780059814453\n",
            "Epoch 3, Perdida: 0.5401189923286438, Exactitud: 78.40714263916016, Perdida de prueba: 0.5241925120353699, Exactitud de prueba: 78.86215209960938\n",
            "Epoch 4, Perdida: 0.5040915608406067, Exactitud: 79.9000015258789, Perdida de prueba: 0.5260542035102844, Exactitud de prueba: 78.70474243164062\n",
            "Epoch 5, Perdida: 0.4922063946723938, Exactitud: 79.97857666015625, Perdida de prueba: 0.5403757095336914, Exactitud de prueba: 78.18754577636719\n",
            "Epoch 6, Perdida: 0.47856366634368896, Exactitud: 80.94285583496094, Perdida de prueba: 0.48844271898269653, Exactitud de prueba: 80.14391326904297\n",
            "Epoch 7, Perdida: 0.46929723024368286, Exactitud: 81.1500015258789, Perdida de prueba: 0.5120519995689392, Exactitud de prueba: 78.81718444824219\n",
            "Epoch 8, Perdida: 0.456596314907074, Exactitud: 81.34285736083984, Perdida de prueba: 0.48667478561401367, Exactitud de prueba: 80.27883911132812\n",
            "Epoch 9, Perdida: 0.43519872426986694, Exactitud: 82.3499984741211, Perdida de prueba: 0.4957013428211212, Exactitud de prueba: 79.46930694580078\n",
            "Epoch 10, Perdida: 0.4268501102924347, Exactitud: 82.72856903076172, Perdida de prueba: 0.4891139566898346, Exactitud de prueba: 80.07645416259766\n",
            "Epoch 11, Perdida: 0.41566482186317444, Exactitud: 82.9000015258789, Perdida de prueba: 0.5102993249893188, Exactitud de prueba: 79.62671661376953\n",
            "Epoch 12, Perdida: 0.40881121158599854, Exactitud: 83.32856750488281, Perdida de prueba: 0.49096184968948364, Exactitud de prueba: 80.21138000488281\n",
            "Epoch 13, Perdida: 0.39286839962005615, Exactitud: 84.1500015258789, Perdida de prueba: 0.5032753348350525, Exactitud de prueba: 79.9190444946289\n",
            "Epoch 14, Perdida: 0.3838762640953064, Exactitud: 84.43571472167969, Perdida de prueba: 0.5412655472755432, Exactitud de prueba: 79.44681549072266\n",
            "Epoch 15, Perdida: 0.3713891804218292, Exactitud: 84.81428527832031, Perdida de prueba: 0.5090771913528442, Exactitud de prueba: 80.1664047241211\n",
            "Epoch 16, Perdida: 0.35935747623443604, Exactitud: 85.37857055664062, Perdida de prueba: 0.5260623693466187, Exactitud de prueba: 79.42433166503906\n",
            "Epoch 17, Perdida: 0.34935230016708374, Exactitud: 85.8357162475586, Perdida de prueba: 0.5270550847053528, Exactitud de prueba: 80.25635528564453\n",
            "Epoch 18, Perdida: 0.3363567590713501, Exactitud: 86.17857360839844, Perdida de prueba: 0.5266861319541931, Exactitud de prueba: 79.17697143554688\n",
            "Epoch 19, Perdida: 0.327335000038147, Exactitud: 86.75, Perdida de prueba: 0.5461858510971069, Exactitud de prueba: 79.58174133300781\n",
            "Epoch 20, Perdida: 0.315531462430954, Exactitud: 87.3499984741211, Perdida de prueba: 0.5983460545539856, Exactitud de prueba: 78.09759521484375\n"
          ]
        }
      ],
      "source": [
        "EPOCHS = 20\n",
        "\n",
        "for epoch in range(EPOCHS):\n",
        "  for images, labels in train_ds:\n",
        "    train_step(images, labels)\n",
        "\n",
        "  for test_images, test_labels in test_ds:\n",
        "    test_step(test_images, test_labels)\n",
        "\n",
        "  template = 'Epoch {}, Perdida: {}, Exactitud: {}, Perdida de prueba: {}, Exactitud de prueba: {}'\n",
        "  print(template.format(epoch+1,\n",
        "                        train_loss.result(),\n",
        "                        train_accuracy.result()*100,\n",
        "                        test_loss.result(),\n",
        "                        test_accuracy.result()*100))\n",
        "\n",
        "  # Reinicia las metricas para el siguiente epoch.\n",
        "  train_loss.reset_states()\n",
        "  train_accuracy.reset_states()\n",
        "  test_loss.reset_states()\n",
        "  test_accuracy.reset_states()"
      ]
    },
    {
      "cell_type": "markdown",
      "metadata": {
        "id": "T4JfEh7kvx6m"
      },
      "source": [
        "El model de clasificacion de images fue entrenado y alcanzo una exactitud de ~98% en este conjunto de datos. Para aprender mas, lee los [tutoriales de TensorFlow](https://www.tensorflow.org/tutorials)."
      ]
    }
  ],
  "metadata": {
    "colab": {
      "toc_visible": true,
      "provenance": []
    },
    "kernelspec": {
      "display_name": "Python 3",
      "name": "python3"
    },
    "accelerator": "GPU",
    "gpuClass": "standard"
  },
  "nbformat": 4,
  "nbformat_minor": 0
}